{
 "cells": [
  {
   "cell_type": "code",
   "execution_count": 11,
   "metadata": {},
   "outputs": [
    {
     "name": "stdout",
     "output_type": "stream",
     "text": [
      "The autoreload extension is already loaded. To reload it, use:\n",
      "  %reload_ext autoreload\n"
     ]
    }
   ],
   "source": [
    "%load_ext autoreload\n",
    "%autoreload 2\n",
    "%matplotlib inline\n",
    "\n",
    "from scipy.io import arff\n",
    "import numpy as np\n",
    "from ant_cluster import AntCluster\n",
    "import pylab"
   ]
  },
  {
   "cell_type": "code",
   "execution_count": 2,
   "metadata": {},
   "outputs": [],
   "source": [
    "data, meta = arff.loadarff(\"data/iris.arff\")\n",
    "features = np.array([instance.tolist()[:-1] for instance in data])\n",
    "labels = [instance[-1] for instance in data]"
   ]
  },
  {
   "cell_type": "code",
   "execution_count": 3,
   "metadata": {},
   "outputs": [
    {
     "data": {
      "text/plain": [
       "dtype('float64')"
      ]
     },
     "execution_count": 3,
     "metadata": {},
     "output_type": "execute_result"
    }
   ],
   "source": [
    "features.dtype"
   ]
  },
  {
   "cell_type": "code",
   "execution_count": 4,
   "metadata": {},
   "outputs": [
    {
     "name": "stderr",
     "output_type": "stream",
     "text": [
      "100%|█████████████████████████████████████████████████████████████████████████████████████████████████████████████████████████████████| 1500/1500 [00:00<00:00, 8545.57it/s]\n",
      "100%|███████████████████████████████████████████████████████████████████████████████████████████████████████████████████████████████| 15000/15000 [00:02<00:00, 5821.28it/s]\n"
     ]
    }
   ],
   "source": [
    "ac = AntCluster(features, label=labels)\n",
    "runs = len(labels) * 100\n",
    "ac.similate(runs)"
   ]
  },
  {
   "cell_type": "code",
   "execution_count": 5,
   "metadata": {
    "scrolled": false
   },
   "outputs": [
    {
     "name": "stdout",
     "output_type": "stream",
     "text": [
      "cluster 0\n",
      "[6.9 3.1 4.9 1.5] b'Iris-versicolor'\n",
      "[6.7 3.3 5.7 2.1] b'Iris-virginica'\n",
      "[5.5 2.3 4.  1.3] b'Iris-versicolor'\n",
      "[7.2 3.2 6.  1.8] b'Iris-virginica'\n",
      "[6.5 2.8 4.6 1.5] b'Iris-versicolor'\n",
      "[6.2 2.8 4.8 1.8] b'Iris-virginica'\n",
      "[5.7 2.8 4.5 1.3] b'Iris-versicolor'\n",
      "[6.1 3.  4.9 1.8] b'Iris-virginica'\n",
      "[6.3 3.3 4.7 1.6] b'Iris-versicolor'\n",
      "[6.4 2.8 5.6 2.1] b'Iris-virginica'\n",
      "[4.9 2.4 3.3 1. ] b'Iris-versicolor'\n",
      "[7.2 3.  5.8 1.6] b'Iris-virginica'\n",
      "[6.6 2.9 4.6 1.3] b'Iris-versicolor'\n",
      "[7.4 2.8 6.1 1.9] b'Iris-virginica'\n",
      "[5.2 2.7 3.9 1.4] b'Iris-versicolor'\n",
      "[7.9 3.8 6.4 2. ] b'Iris-virginica'\n",
      "[5.  2.  3.5 1. ] b'Iris-versicolor'\n",
      "[6.4 2.8 5.6 2.2] b'Iris-virginica'\n",
      "[5.9 3.  4.2 1.5] b'Iris-versicolor'\n",
      "[6.3 2.8 5.1 1.5] b'Iris-virginica'\n",
      "[6.  2.2 4.  1. ] b'Iris-versicolor'\n",
      "[6.1 2.6 5.6 1.4] b'Iris-virginica'\n",
      "[6.1 2.9 4.7 1.4] b'Iris-versicolor'\n",
      "[7.7 3.  6.1 2.3] b'Iris-virginica'\n",
      "[5.6 2.9 3.6 1.3] b'Iris-versicolor'\n",
      "[6.3 3.4 5.6 2.4] b'Iris-virginica'\n",
      "[6.7 3.1 4.4 1.4] b'Iris-versicolor'\n",
      "[6.4 3.1 5.5 1.8] b'Iris-virginica'\n",
      "[5.6 3.  4.5 1.5] b'Iris-versicolor'\n",
      "[6.  3.  4.8 1.8] b'Iris-virginica'\n",
      "[5.8 2.7 4.1 1. ] b'Iris-versicolor'\n",
      "[6.9 3.1 5.4 2.1] b'Iris-virginica'\n",
      "[6.2 2.2 4.5 1.5] b'Iris-versicolor'\n",
      "[6.7 3.1 5.6 2.4] b'Iris-virginica'\n",
      "[5.6 2.5 3.9 1.1] b'Iris-versicolor'\n",
      "[6.9 3.1 5.1 2.3] b'Iris-virginica'\n",
      "[5.9 3.2 4.8 1.8] b'Iris-versicolor'\n",
      "[5.8 2.7 5.1 1.9] b'Iris-virginica'\n",
      "[6.1 2.8 4.  1.3] b'Iris-versicolor'\n",
      "[6.8 3.2 5.9 2.3] b'Iris-virginica'\n",
      "[6.3 2.5 4.9 1.5] b'Iris-versicolor'\n",
      "[6.7 3.3 5.7 2.5] b'Iris-virginica'\n",
      "[6.1 2.8 4.7 1.2] b'Iris-versicolor'\n",
      "[6.7 3.  5.2 2.3] b'Iris-virginica'\n",
      "[6.4 2.9 4.3 1.3] b'Iris-versicolor'\n",
      "[6.3 2.5 5.  1.9] b'Iris-virginica'\n",
      "[6.6 3.  4.4 1.4] b'Iris-versicolor'\n",
      "[6.5 3.  5.2 2. ] b'Iris-virginica'\n",
      "[6.8 2.8 4.8 1.4] b'Iris-versicolor'\n",
      "[6.2 3.4 5.4 2.3] b'Iris-virginica'\n",
      "[6.7 3.  5.  1.7] b'Iris-versicolor'\n",
      "[5.9 3.  5.1 1.8] b'Iris-virginica'\n",
      "[6.  2.9 4.5 1.5] b'Iris-versicolor'\n",
      "[5.7 2.6 3.5 1. ] b'Iris-versicolor'\n",
      "[5.5 2.4 3.8 1.1] b'Iris-versicolor'\n",
      "[5.5 2.4 3.7 1. ] b'Iris-versicolor'\n",
      "[5.8 2.7 3.9 1.2] b'Iris-versicolor'\n",
      "[6.  2.7 5.1 1.6] b'Iris-versicolor'\n",
      "[5.4 3.  4.5 1.5] b'Iris-versicolor'\n",
      "[6.  3.4 4.5 1.6] b'Iris-versicolor'\n",
      "[6.7 3.1 4.7 1.5] b'Iris-versicolor'\n",
      "[6.3 2.3 4.4 1.3] b'Iris-versicolor'\n",
      "[5.6 3.  4.1 1.3] b'Iris-versicolor'\n",
      "[5.5 2.5 4.  1.3] b'Iris-versicolor'\n",
      "[5.5 2.6 4.4 1.2] b'Iris-versicolor'\n",
      "[6.1 3.  4.6 1.4] b'Iris-versicolor'\n",
      "[5.8 2.6 4.  1.2] b'Iris-versicolor'\n",
      "[5.  2.3 3.3 1. ] b'Iris-versicolor'\n",
      "[5.6 2.7 4.2 1.3] b'Iris-versicolor'\n",
      "[5.7 3.  4.2 1.2] b'Iris-versicolor'\n",
      "[5.7 2.9 4.2 1.3] b'Iris-versicolor'\n",
      "[6.2 2.9 4.3 1.3] b'Iris-versicolor'\n",
      "[5.1 2.5 3.  1.1] b'Iris-versicolor'\n",
      "[5.7 2.8 4.1 1.3] b'Iris-versicolor'\n",
      "[6.3 3.3 6.  2.5] b'Iris-virginica'\n",
      "[5.8 2.7 5.1 1.9] b'Iris-virginica'\n",
      "[7.1 3.  5.9 2.1] b'Iris-virginica'\n",
      "[6.3 2.9 5.6 1.8] b'Iris-virginica'\n",
      "[6.5 3.  5.8 2.2] b'Iris-virginica'\n",
      "[7.6 3.  6.6 2.1] b'Iris-virginica'\n",
      "[7.3 2.9 6.3 1.8] b'Iris-virginica'\n",
      "[6.7 2.5 5.8 1.8] b'Iris-virginica'\n",
      "[7.2 3.6 6.1 2.5] b'Iris-virginica'\n",
      "[6.5 3.2 5.1 2. ] b'Iris-virginica'\n",
      "[6.4 2.7 5.3 1.9] b'Iris-virginica'\n",
      "[6.8 3.  5.5 2.1] b'Iris-virginica'\n",
      "[5.7 2.5 5.  2. ] b'Iris-virginica'\n",
      "[6.4 3.2 5.3 2.3] b'Iris-virginica'\n",
      "[6.5 3.  5.5 1.8] b'Iris-virginica'\n",
      "[7.7 3.8 6.7 2.2] b'Iris-virginica'\n",
      "[7.7 2.6 6.9 2.3] b'Iris-virginica'\n",
      "[6.  2.2 5.  1.5] b'Iris-virginica'\n",
      "[6.9 3.2 5.7 2.3] b'Iris-virginica'\n",
      "[5.6 2.8 4.9 2. ] b'Iris-virginica'\n",
      "[7.  3.2 4.7 1.4] b'Iris-versicolor'\n",
      "[7.7 2.8 6.7 2. ] b'Iris-virginica'\n",
      "[6.4 3.2 4.5 1.5] b'Iris-versicolor'\n",
      "[6.3 2.7 4.9 1.8] b'Iris-virginica'\n",
      "cluster 1\n",
      "[5.1 3.5 1.4 0.2] b'Iris-setosa'\n",
      "[4.6 3.4 1.4 0.3] b'Iris-setosa'\n",
      "[5.  3.4 1.5 0.2] b'Iris-setosa'\n",
      "[4.9 3.1 1.5 0.1] b'Iris-setosa'\n",
      "[4.7 3.2 1.3 0.2] b'Iris-setosa'\n",
      "[4.6 3.1 1.5 0.2] b'Iris-setosa'\n",
      "[4.8 3.4 1.6 0.2] b'Iris-setosa'\n",
      "[5.4 3.7 1.5 0.2] b'Iris-setosa'\n",
      "[5.  3.6 1.4 0.2] b'Iris-setosa'\n",
      "[5.4 3.9 1.7 0.4] b'Iris-setosa'\n",
      "[4.8 3.  1.4 0.1] b'Iris-setosa'\n",
      "[4.9 3.  1.4 0.2] b'Iris-setosa'\n",
      "[4.4 2.9 1.4 0.2] b'Iris-setosa'\n",
      "[4.3 3.  1.1 0.1] b'Iris-setosa'\n",
      "[5.8 4.  1.2 0.2] b'Iris-setosa'\n",
      "[5.7 4.4 1.5 0.4] b'Iris-setosa'\n",
      "[5.4 3.9 1.3 0.4] b'Iris-setosa'\n",
      "[5.1 3.5 1.4 0.3] b'Iris-setosa'\n",
      "[5.7 3.8 1.7 0.3] b'Iris-setosa'\n",
      "[5.1 3.8 1.5 0.3] b'Iris-setosa'\n",
      "[5.4 3.4 1.7 0.2] b'Iris-setosa'\n",
      "[5.1 3.7 1.5 0.4] b'Iris-setosa'\n",
      "[4.6 3.6 1.  0.2] b'Iris-setosa'\n",
      "[5.1 3.3 1.7 0.5] b'Iris-setosa'\n",
      "[4.8 3.4 1.9 0.2] b'Iris-setosa'\n",
      "[5.  3.  1.6 0.2] b'Iris-setosa'\n",
      "[5.  3.4 1.6 0.4] b'Iris-setosa'\n",
      "[5.2 3.5 1.5 0.2] b'Iris-setosa'\n",
      "[5.2 3.4 1.4 0.2] b'Iris-setosa'\n",
      "[4.7 3.2 1.6 0.2] b'Iris-setosa'\n",
      "[4.8 3.1 1.6 0.2] b'Iris-setosa'\n",
      "[5.4 3.4 1.5 0.4] b'Iris-setosa'\n",
      "[5.2 4.1 1.5 0.1] b'Iris-setosa'\n",
      "[5.5 4.2 1.4 0.2] b'Iris-setosa'\n",
      "[4.9 3.1 1.5 0.1] b'Iris-setosa'\n",
      "[5.  3.2 1.2 0.2] b'Iris-setosa'\n",
      "[5.5 3.5 1.3 0.2] b'Iris-setosa'\n",
      "[4.9 3.1 1.5 0.1] b'Iris-setosa'\n",
      "[4.4 3.  1.3 0.2] b'Iris-setosa'\n",
      "[5.1 3.4 1.5 0.2] b'Iris-setosa'\n",
      "[5.  3.5 1.3 0.3] b'Iris-setosa'\n",
      "[4.5 2.3 1.3 0.3] b'Iris-setosa'\n",
      "[4.4 3.2 1.3 0.2] b'Iris-setosa'\n",
      "[5.  3.5 1.6 0.6] b'Iris-setosa'\n",
      "[5.1 3.8 1.9 0.4] b'Iris-setosa'\n",
      "[4.8 3.  1.4 0.3] b'Iris-setosa'\n",
      "[5.1 3.8 1.6 0.2] b'Iris-setosa'\n",
      "[4.6 3.2 1.4 0.2] b'Iris-setosa'\n",
      "[5.3 3.7 1.5 0.2] b'Iris-setosa'\n",
      "[5.  3.3 1.4 0.2] b'Iris-setosa'\n",
      "cluster 2\n",
      "[4.9 2.5 4.5 1.7] b'Iris-virginica'\n",
      "[5.8 2.8 5.1 2.4] b'Iris-virginica'\n"
     ]
    }
   ],
   "source": [
    "for i, ant_group in enumerate(ac.group()):\n",
    "    print(f\"cluster {i}\")\n",
    "    for ant in ant_group:\n",
    "        print(ant.gene, ant.true_label)"
   ]
  },
  {
   "cell_type": "code",
   "execution_count": 26,
   "metadata": {},
   "outputs": [
    {
     "data": {
      "image/png": "[encoded data removed]",
      "text/plain": [
       "<Figure size 432x288 with 1 Axes>"
      ]
     },
     "metadata": {},
     "output_type": "display_data"
    }
   ],
   "source": [
    "labels = [\"create nest\", \"join nest\", \"positive meeting\", \"negative meeting\", \"different nest meeting\"]\n",
    "trace = np.array(ac.statistic).T\n",
    "for i in range(trace.shape[0]):\n",
    "    pylab.plot(trace[i,:].cumsum(), label=labels[i])\n",
    "    \n",
    "pylab.yscale('symlog', linthreshy=0.015)\n",
    "pylab.legend()\n",
    "pylab.grid()"
   ]
  },
  {
   "cell_type": "code",
   "execution_count": null,
   "metadata": {},
   "outputs": [],
   "source": []
  }
 ],
 "metadata": {
  "kernelspec": {
   "display_name": "Python 3",
   "language": "python",
   "name": "python3"
  },
  "language_info": {
   "codemirror_mode": {
    "name": "ipython",
    "version": 3
   },
   "file_extension": ".py",
   "mimetype": "text/x-python",
   "name": "python",
   "nbconvert_exporter": "python",
   "pygments_lexer": "ipython3",
   "version": "3.6.5"
  }
 },
 "nbformat": 4,
 "nbformat_minor": 2
}
